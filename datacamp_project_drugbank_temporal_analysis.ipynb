{
 "cells": [
  {
   "cell_type": "markdown",
   "metadata": {
    "collapsed": true
   },
   "source": [
    "Welcome to your DataCamp project audition! This notebook must be filled out and vetted before a contract can be signed and you can start creating your project.\n",
    "\n",
    "There are two parts to be completed in this notebook:\n",
    "\n",
    "1. **Project information**:  The title of the project, a project description, assumed student background, etc.\n",
    "2. **Project introduction**: The three first text and code cells that will form the introduction of your project.\n",
    "\n",
    "When you are happy with this document, include the file as an attachment in an email to me as well as the datasets used. If you have any questions, feel free to reach out to me at any time!\n",
    "\n",
    "David Venturi<br>\n",
    "david.venturi@datacamp.com"
   ]
  },
  {
   "cell_type": "markdown",
   "metadata": {},
   "source": [
    "# 1. Project information"
   ]
  },
  {
   "cell_type": "markdown",
   "metadata": {},
   "source": [
    "**Project title**: DrugBank: A Temporal Analysis.\n",
    "\n",
    "**Name:** Your full name.\n",
    "\n",
    "**Email address associated with your DataCamp account:** You can find this email [here](https://www.datacamp.com/profile/account_settings) if you have a DataCamp account.\n",
    "\n",
    "**Project description**: Widely used in drug discovery, DrugBank is a publicly available resource that stores high-quality information on drugs and their targets. Since its incpetion in 2005, DrugBank has been frequently used by pharmaceutical companies, medicinal chemists, students and the general public. In this project, we will be performing a temporal analysis of DrugBank. That is, we will observe how the DrugBank database has evolved over time as this will implicitly give us a bird's eye view on the progress of the field of drug discovery as a whole as well as any trends that may have emerged. We will be exploring the dataset of this project via data visualization packages such as *ggplot* and *ggvis*.\n",
    "\n",
    "**Dataset(s) used**: The dataset is a subset of the full information stored in the DrugBank database. The dataset consists of information on thousands of drugs including their commercial names, indications (i.e. diseases/symptoms they are intended to treat), targets, drug manufacturers and so on.\n",
    "\n",
    "**Assumed student knowledge**: Familiariaty with the *tidyverse* set of packages would be helpful but not strictly necessary. Specifically, we will be using the *dplyr* and *ggplot* packages as well as the pipe operator, %>%. We also make use of the *ggvis* and *???* packages to produce some interactive visualizations."
   ]
  },
  {
   "cell_type": "markdown",
   "metadata": {},
   "source": [
    "# 2. Project introduction"
   ]
  },
  {
   "cell_type": "markdown",
   "metadata": {},
   "source": [
    "The final output of a DataCamp project looks like a blog post: pairs of text and code cells that tell a story about data. The text is written from the perspective of the data analyst and *not* from the perspective of an instructor on DataCamp. So, for this blog post intro, all you need to do is pretend like you're writing a blog post -- forget the part about instructors and students.\n",
    "\n",
    "Below you'll see the structure of a DataCamp project: a series of \"tasks\" where each task consists of a title, a **single** text cell, and a **single** code cell. There are 8-12 tasks in a project and each task can have up to 10 lines of code. What you need to do:\n",
    "1. Read through the template structure.\n",
    "2. As best you can, divide your project as it is currently visualized in your mind into tasks.\n",
    "3. Fill out the template structure for the first three tasks of your project.\n",
    "\n",
    "As you are completing each task, you may wish to consult the project notebook format in our [documentation](https://authoring.datacamp.com/projects/projects-format.html). Only the `@context` and `@solution` cells are relevant to this audition."
   ]
  },
  {
   "cell_type": "markdown",
   "metadata": {},
   "source": [
    "## 1. *Drugs* ... Past and Present"
   ]
  },
  {
   "cell_type": "markdown",
   "metadata": {},
   "source": [
    "DrugBank is a publicly free database that is widely used in the field of drug discovery. DrugBank stores extensive information on drugs and their targets. Established in 2005, DrugBank has since been adding so-called \"drug cards\" which are essentially drug records that contain supplementary information on the drugs (e.g. chemical structure, commercial names, ADMET properties, etc.) as well as their known targets (usually proteins). These drug cards are regularly curated by experts who ensure that the data inserted into DrugBank is accurate and up-to-date. These data are useful for pharmaceutical scientists and biochemists who are involved drug development. DrugBank may be accessed at: https://www.drugbank.ca/\n",
    "\n",
    "The dataset we are using here is a subset of the full DrugBank database that has the information we need for our analysis. Specifically, the analysis we'll be doing here is a temporal analysis of some the aspects of the DrugBank database. We'll observe how the DrugBank database has evolved over time in terms of the numbers of drugs, targets and indications stored.\n",
    "\n",
    "For starters, let's have a look at the *drugs* of the DrugBank database and how their numbers have increased over time. Let's display the following statistics over time since the inception of DrugBank:\n",
    "- The number of small-molecule drugs\n",
    "- The number of biotech drugs\n",
    "- The number of drugs\n",
    "- The number of approved drugs\n",
    "\n",
    "\n",
    "***Add logo of drugbank (or a royalty-free drug-related image) to the right hand side of this context cell. Make sure that the image you use has a [permissive license](https://support.google.com/websearch/answer/29508?hl=en) and display them using [Markdown](https://github.com/adam-p/markdown-here/wiki/Markdown-Cheatsheet#images).***"
   ]
  },
  {
   "cell_type": "code",
   "execution_count": 1,
   "metadata": {},
   "outputs": [],
   "source": [
    "# Code for the first task\n",
    "# It should consist of up to 10 lines of code (not including comments)\n",
    "# and take at most 5 seconds to execute on an average laptop.\n",
    "\n",
    "\n",
    "# ************\n",
    "# CODE\n",
    "# \n",
    "# You will create a cumulative plot starting from \"2005-06-13\" all the way till \n",
    "# the current day. It will be a line graph containing four different plots for \n",
    "# the four different statistics (X-axis = 'created' column of the 'drugs' data \n",
    "# frame, Y-axis = the different stats mentioned above). The values of the \n",
    "# different statistics at the current date should match those displayed at the \n",
    "# following link:\n",
    "# https://www.drugbank.ca/stats\n",
    "# \n",
    "# Wanna do something different?\n",
    "# Figures 1c/1d of the paper, [2007] Drug-Target Network, offer an alternative \n",
    "# way of displaying the same above information; a bar graph for each year with \n",
    "# the bars being filled by subcategories. In this case, you will split the above\n",
    "# cumulative graph into two bar plots because while the drugs are either \n",
    "# small-molecule or biotech (i.e. mutually exclusive), the 'approved' categories\n",
    "# intersects with both (i.e. there are approved and non-approved biotech drugs \n",
    "# as well as approved and non-approved small-molecule drugs):\n",
    "# - plot 1 --> bar length: #drugs in this year, each bar containing two \n",
    "#   sub-categories (small-molecule, biotech)\n",
    "# - plot 2 --> bar length: #drugs in this year, each bar containing two \n",
    "#   sub-categories (approved, non-approved)\n",
    "# \n",
    "# Wanna do something fancy?\n",
    "# Let it be an interactive plot! Here's what it may look like. Depending on the \n",
    "# position of the mouse cursor, display a vertical line there along with a tool \n",
    "# tip that shows this info:\n",
    "# - The value on the x-axis (i.e. the creation date)\n",
    "# - The values of all the different stats at this date\n",
    "# - (optional) log-scale y-axis?\n",
    "# Need inspiration?  -->  check out these links:\n",
    "# - https://www.r-graph-gallery.com/129-use-a-loop-to-add-trace-with-plotly/\n",
    "# - https://www.r-graph-gallery.com/interactive-charts/\n",
    "# - https://moderndata.plot.ly/interactive-r-visualizations-with-d3-ggplot2-rstudio/\n",
    "# - https://www.r-graph-gallery.com/get-the-best-from-ggplotly/\n",
    "# - https://www.datacamp.com/courses/ggvis-data-visualization-r-tutorial\n",
    "# - https://www.statmethods.net/advgraphs/interactive.html\n",
    "# \n",
    "# Wanna do something sneaky? (keep as last resort, we may not need this)\n",
    "# Let tasks 1 and 2 be the same visualization, but the first is static and the \n",
    "# second is interactive. In the second, you can add check boxes to toggle on/off \n",
    "# some of the stats if the viz is getting crowded. You may also consider adding \n",
    "# more stats than what I mentioned above (e.g. #targets, #different subcategories \n",
    "# of targets, enzymes/carriers/transporters, #manufacturers, etc.). Again, check \n",
    "# the stats on the DrugBank website to make sure that the values of these stats \n",
    "# at the current date is correct (or close enough).\n",
    "# \n",
    "# Finally\n",
    "# If you're feeling creative, feel free to add your own touch. One other thing \n",
    "# that is worth mentioning is that there is some information that I couldn't \n",
    "# find in the files on the Git repo (most obvious is the drugs' market release \n",
    "# dates). What we have in the files is only the creation dates of their respective \n",
    "# records in the DrugBank database. For example, a drug released in 1982 would have \n",
    "# a creation date of \"2005-06-13\" as this is the date that the DrugBank database \n",
    "# was established. This is why, with the current data in the repo, we couldn't \n",
    "# display the visualization in Fig 1 of the paper: [2007] Drug-Target Network\n",
    "# ************"
   ]
  },
  {
   "cell_type": "code",
   "execution_count": 2,
   "metadata": {},
   "outputs": [
    {
     "data": {},
     "metadata": {},
     "output_type": "display_data"
    },
    {
     "data": {},
     "metadata": {},
     "output_type": "display_data"
    },
    {
     "data": {
      "image/png": "[encoded data removed]",
      "text/plain": [
       "plot without title"
      ]
     },
     "metadata": {},
     "output_type": "display_data"
    },
    {
     "data": {
      "image/png": "[encoded data removed]",
      "text/plain": [
       "plot without title"
      ]
     },
     "metadata": {},
     "output_type": "display_data"
    }
   ],
   "source": [
    "## suppresses any messages\n",
    "suppressMessages({\n",
    "    \n",
    "    ## load necessary packages\n",
    "    require(tidyverse)\n",
    "    require(lubridate)\n",
    "\n",
    "    ## load data\n",
    "    drugs  <- read_csv(\"drugs.csv\")     ## drugs\n",
    "    groups <- read_csv(\"groups.csv\")    ## drug groupings\n",
    "\n",
    "})\n",
    "\n",
    "\n",
    "# ## original code ---------------------\n",
    "# ## types distribution\n",
    "# drugs %>% \n",
    "# ggplot(aes(x = factor(year(created)), fill = type)) +\n",
    "# geom_bar() +\n",
    "# labs(title = \"Biotech vs. Small Molecule\",\n",
    "#      x = \"Year\",\n",
    "#      y = \"Number of Drugs\",\n",
    "#      fill = \"Drug Types\")\n",
    "# \n",
    "# # types increase\n",
    "# drugs %>% \n",
    "#     select(created, type) %>% \n",
    "#     group_by(type, year(created)) %>% \n",
    "#     summarize(n = n()) %>% \n",
    "#     #mutate(count = cumsum(n)) %>% \n",
    "#     ggplot(aes(x = `year(created)` , y = cumsum(n), col = type)) +\n",
    "#     geom_line() +\n",
    "#     #geom_bar(stat = 'identity') +\n",
    "#     labs(title = \"Biotech and Small Molecule Drugs over Time\",\n",
    "#          x = \"Year\",\n",
    "#          y = \"Number of Drugs\",\n",
    "#          fill = \"Drug Types\")\n",
    "# ## -----------------------------------\n",
    "\n",
    "\n",
    "drugs_types <- drugs %>% select(primary_key,created,type)\n",
    "\n",
    "drugs_types %>% \n",
    "group_by(created,type) %>% \n",
    "summarise(count = n()) %>% \n",
    "spread(type,count) %>% \n",
    "mutate(biotech = replace_na(biotech,0), `small molecule` = replace_na(`small molecule`,0)) %>% \n",
    "ggplot(aes(x = created)) + \n",
    "geom_line(aes(y = cumsum(biotech), col = 'biotech')) + \n",
    "geom_line(aes(y = cumsum(`small molecule`), col = 'small molecule')) + \n",
    "scale_y_continuous(limits = c(0,12000))\n",
    "\n",
    "drugs_types %>% \n",
    "group_by(created,type) %>% \n",
    "summarise(count = n()) %>% \n",
    "spread(type,count) %>% \n",
    "mutate(biotech = replace_na(biotech,0), `small molecule` = replace_na(`small molecule`,0)) %>% \n",
    "mutate(total = (biotech + `small molecule`)) %>%  \n",
    "ggplot(aes(x = created)) + \n",
    "geom_line(aes(y = cumsum(biotech), col = 'biotech')) + \n",
    "geom_line(aes(y = cumsum(`small molecule`), col = 'small molecule')) + \n",
    "geom_line(aes(y = cumsum(total), col = 'TOTAL')) + \n",
    "scale_y_continuous(limits = c(0,12000))\n",
    "\n",
    "## Note for later\n",
    "## It just so happens that the records were already sorted by date. We should add \n",
    "## code that has tolerance to data that does not have such conveniently ordered data.\n",
    "## (unordered data would lead to do to non-sensical cumulative sums from the cumsums() function)"
   ]
  },
  {
   "cell_type": "code",
   "execution_count": 3,
   "metadata": {},
   "outputs": [
    {
     "data": {},
     "metadata": {},
     "output_type": "display_data"
    },
    {
     "data": {
      "image/png": "[encoded data removed]",
      "text/plain": [
       "plot without title"
      ]
     },
     "metadata": {},
     "output_type": "display_data"
    }
   ],
   "source": [
    "## cumulative bar chart (unfinished)\n",
    "drugs %>% \n",
    "ggplot(aes(x = factor(year(created)), y = cumsum(..count..))) +\n",
    "geom_bar()"
   ]
  },
  {
   "cell_type": "code",
   "execution_count": 4,
   "metadata": {},
   "outputs": [
    {
     "data": {},
     "metadata": {},
     "output_type": "display_data"
    },
    {
     "data": {
      "image/png": "[encoded data removed]",
      "text/plain": [
       "plot without title"
      ]
     },
     "metadata": {},
     "output_type": "display_data"
    }
   ],
   "source": [
    "# ## original code ---------------------\n",
    "# ## groups distributions\n",
    "# groups %>% \n",
    "# group_by(text) %>% \n",
    "# summarize(count = n()) %>%\n",
    "# ggplot(aes(x = text, y = count, fill = count)) +\n",
    "# geom_bar(stat = \"identity\") + \n",
    "# coord_flip()\n",
    "# ## -----------------------------------\n",
    "\n",
    "## get all actual groups\n",
    "get_all_actual_groups <- function(x) {\n",
    "    ## apply the 'get_actual_group' function to each drug\n",
    "    x <- sapply(x, get_actual_group)\n",
    "    \n",
    "    ## return the actual groups for all drugs\n",
    "    x\n",
    "}\n",
    "\n",
    "## get actual group for a single drug\n",
    "get_actual_group <- function(x) {\n",
    "    ## withdrawn > approved > investigational > experimental > other\n",
    "    if (grepl('withdrawn', x)) {               actual_group <- 'withdrawn'\n",
    "    } else if (grepl('approved', x)) {         actual_group <- 'approved'\n",
    "    } else if (grepl('investigational', x)) {  actual_group <- 'investigational'\n",
    "    } else if (grepl('experimental', x)) {     actual_group <- 'experimental'\n",
    "    } else {                                   actual_group <- 'other'}\n",
    "    \n",
    "    ## return actual final tag for the drug\n",
    "    actual_group\n",
    "}\n",
    "\n",
    "## plot actual groups of the drugs\n",
    "groups %>% \n",
    "group_by(parent_key) %>%\n",
    "summarise(allgroups = paste(text, collapse=';')) %>%\n",
    "mutate(final_group = get_all_actual_groups(allgroups)) %>% \n",
    "group_by(final_group) %>% \n",
    "summarize(count = n()) %>%\n",
    "ggplot(aes(x = reorder(final_group,count), \n",
    "           y = count, \n",
    "           fill = letters[1:5])) +    ## alternative: fill = count\n",
    "geom_bar(stat = \"identity\") + \n",
    "guides(fill=FALSE) +    ## removes legend for the bar colors\n",
    "coord_flip()            ## switches the X and Y axes"
   ]
  },
  {
   "cell_type": "markdown",
   "metadata": {},
   "source": [
    "## 2. Now, It's The *Targets*' Turn"
   ]
  },
  {
   "cell_type": "markdown",
   "metadata": {},
   "source": [
    "From the previous plot, we observed blah, blah, blah. This is interesting information because yada, yada, yada.\n",
    "\n",
    "Now that we've had a look at some drug statistics, we'll now shift our attention to the drug *targets*. This task will involve us showing some target statistics and khow these evolved over the lifetime of the DrugBank database. Let's go!\n",
    "\n",
    "***Character Limit: 800, Paragraph Limit: 3***"
   ]
  },
  {
   "cell_type": "code",
   "execution_count": 5,
   "metadata": {},
   "outputs": [],
   "source": [
    "# Code for the second task\n",
    "# It should consist of up to 10 lines of code (not including comments)\n",
    "# and take at most 5 seconds to execute on an average laptop.\n",
    "\n",
    "\n",
    "# ************\n",
    "# CODE\n",
    "# \n",
    "# You will create a cumulative plot similar to the previous one, but with different \n",
    "# stats on the Y-axis. They are:\n",
    "# - #targets\n",
    "# - #membrane targets\n",
    "# - #cytoplasm targets\n",
    "# - #nucleus targets\n",
    "# - #organelles targets\n",
    "# - #exterior targets\n",
    "# - #other targets?\n",
    "# If one or two categories are particularly difficult/time-consuming to get, put \n",
    "# into \"other targets\". The information of which subcategories the targets belong \n",
    "# to will likely be in the Gene Ontology information of the targets. Unfortunately, \n",
    "# this information is probably external to DrugBank. If the above subcategories \n",
    "# are to tough to deal with, use the stats below instead:\n",
    "# - #targets\n",
    "# - #enzymes\n",
    "# - #transporters\n",
    "# - #carriers\n",
    "# \n",
    "# Again...\n",
    "# You may make this into an interactive plot if you wish (e.g. ggvis)\n",
    "# \n",
    "# By the way...\n",
    "# The following paper (Table 1) contains an evolution of the different stats of DrugBank over time:\n",
    "# https://academic.oup.com/nar/article/46/D1/D1074/4602867\n",
    "# ************"
   ]
  },
  {
   "cell_type": "markdown",
   "metadata": {},
   "source": [
    "## 3. Next Up, Drug-Target *Interactions*"
   ]
  },
  {
   "cell_type": "markdown",
   "metadata": {},
   "source": [
    "At this point, we have now observed *drugs* and *targets* over time. We now look at drug-target *interactions*.\n",
    "\n",
    "***Character Limit: 800, Paragraph Limit: 3***"
   ]
  },
  {
   "cell_type": "code",
   "execution_count": 6,
   "metadata": {},
   "outputs": [],
   "source": [
    "# Code for the third task\n",
    "# It should consist of up to 10 lines of code (not including comments)\n",
    "# and take at most 5 seconds to execute on an average laptop.\n",
    "\n",
    "\n",
    "# ************\n",
    "# CODE\n",
    "# \n",
    "# You will create a network visualization similar to Fig 2 of the paper: \n",
    "# [2007] Drug-Target Network\n",
    "# \n",
    "# I realize this may be too much to ask, but it would be cool if... (and you can \n",
    "# ignore this if it is too much):\n",
    "# - the outputted visualization is modifiable by the user; i.e. there is a slider \n",
    "#   that the user can use to slide the time back and forth.\n",
    "# - the user can drag components in the visualization as they please.\n",
    "# \n",
    "# If it is more convenient for you, you can:\n",
    "# - exclude drugs that are not approved (along with their targets)\n",
    "# - keep only targets of a specific category (e.g. membrane proteins) and their \n",
    "# interacting drugs\n",
    "# - exclude drugs for which \"created < 01-01-2010\" to make data size more manageable\n",
    "# - ...\n",
    "# \n",
    "# Again...\n",
    "# You may make this into an interactive plot if you wish (or not).\n",
    "# ************"
   ]
  },
  {
   "cell_type": "markdown",
   "metadata": {},
   "source": [
    "*Stop here! Only the three first tasks. :)*"
   ]
  },
  {
   "cell_type": "markdown",
   "metadata": {},
   "source": [
    "***Next tasks will involve diseases, manufacturers, a case study of a drug (2 tasks), a case study of a disease (2 tasks).***\n",
    "\n",
    "***When you submit, tell them you may use extra data (that won't exceed their data size limits) in the full project (if it gets accepted, that is). Also mention that the project topic may change slightly: instead of \"evolutionary analysis\", it may be \"exploratory analysis\". If you think this will be a problem, maybe call the analysis \"exploratory\" in the first place?***"
   ]
  }
 ],
 "metadata": {
  "kernelspec": {
   "display_name": "R",
   "language": "R",
   "name": "ir"
  },
  "language_info": {
   "codemirror_mode": "r",
   "file_extension": ".r",
   "mimetype": "text/x-r-source",
   "name": "R",
   "pygments_lexer": "r",
   "version": "3.5.1"
  }
 },
 "nbformat": 4,
 "nbformat_minor": 2
}
